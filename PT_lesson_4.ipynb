{
 "cells": [
  {
   "cell_type": "markdown",
   "id": "aec3bf54",
   "metadata": {},
   "source": [
    "1. Случайная непрерывная величина A имеет равномерное распределение на промежутке (200, 800]. Найдите ее среднее значение и дисперсию."
   ]
  },
  {
   "cell_type": "code",
   "execution_count": 1,
   "id": "382261fb",
   "metadata": {},
   "outputs": [],
   "source": [
    "a = 201\n",
    "b = 800"
   ]
  },
  {
   "cell_type": "code",
   "execution_count": 2,
   "id": "c936ca62",
   "metadata": {},
   "outputs": [
    {
     "data": {
      "text/plain": [
       "500.5"
      ]
     },
     "execution_count": 2,
     "metadata": {},
     "output_type": "execute_result"
    }
   ],
   "source": [
    "M = (a + b) / 2\n",
    "M"
   ]
  },
  {
   "cell_type": "code",
   "execution_count": 3,
   "id": "5896c360",
   "metadata": {},
   "outputs": [
    {
     "data": {
      "text/plain": [
       "29900.083333333332"
      ]
     },
     "execution_count": 3,
     "metadata": {},
     "output_type": "execute_result"
    }
   ],
   "source": [
    "D = (b - a)**2 / 12\n",
    "D"
   ]
  },
  {
   "cell_type": "markdown",
   "id": "6772d0a8",
   "metadata": {},
   "source": [
    "2. О случайной непрерывной равномерно распределенной величине B известно, что ее дисперсия равна 0.2. Можно ли найти правую границу величины B и ее среднее значение зная, что левая граница равна 0.5? Если да, найдите ее."
   ]
  },
  {
   "cell_type": "code",
   "execution_count": 4,
   "id": "08b7cb4f",
   "metadata": {},
   "outputs": [],
   "source": [
    "D = 0.2\n",
    "a = 0.5"
   ]
  },
  {
   "cell_type": "code",
   "execution_count": 7,
   "id": "b38ae23b",
   "metadata": {},
   "outputs": [
    {
     "data": {
      "text/plain": [
       "2.049193338482967"
      ]
     },
     "execution_count": 7,
     "metadata": {},
     "output_type": "execute_result"
    }
   ],
   "source": [
    "b = (12 * D)**0.5 + a\n",
    "b"
   ]
  },
  {
   "cell_type": "code",
   "execution_count": 8,
   "id": "e895cbaf",
   "metadata": {},
   "outputs": [
    {
     "data": {
      "text/plain": [
       "1.2745966692414834"
      ]
     },
     "execution_count": 8,
     "metadata": {},
     "output_type": "execute_result"
    }
   ],
   "source": [
    "M = (a + b) / 2\n",
    "M"
   ]
  },
  {
   "cell_type": "markdown",
   "id": "9d4a201d",
   "metadata": {},
   "source": [
    "3. Непрерывная случайная величина X распределена нормально и задана плотностью распределения\n",
    "f(x) = (1 / (4 * sqrt(2*pi))) * (exp(-(x+2)**2) / 32).\n",
    "Найдите:\n",
    "а). M(X)\n",
    "б). D(X)\n",
    "в). std(X) (среднее квадратичное отклонение)\n"
   ]
  },
  {
   "cell_type": "code",
   "execution_count": 9,
   "id": "e9483c04",
   "metadata": {},
   "outputs": [
    {
     "data": {
      "text/plain": [
       "4"
      ]
     },
     "execution_count": 9,
     "metadata": {},
     "output_type": "execute_result"
    }
   ],
   "source": [
    "σ = 4\n",
    "σ"
   ]
  },
  {
   "cell_type": "markdown",
   "id": "6b6e97e9",
   "metadata": {},
   "source": [
    "Т.к. x + 2 = x - M"
   ]
  },
  {
   "cell_type": "code",
   "execution_count": 10,
   "id": "ba10bc8d",
   "metadata": {},
   "outputs": [
    {
     "data": {
      "text/plain": [
       "-2"
      ]
     },
     "execution_count": 10,
     "metadata": {},
     "output_type": "execute_result"
    }
   ],
   "source": [
    "M = -2\n",
    "M"
   ]
  },
  {
   "cell_type": "code",
   "execution_count": 11,
   "id": "f7f4eda3",
   "metadata": {},
   "outputs": [
    {
     "data": {
      "text/plain": [
       "16"
      ]
     },
     "execution_count": 11,
     "metadata": {},
     "output_type": "execute_result"
    }
   ],
   "source": [
    "D = σ ** 2\n",
    "D"
   ]
  },
  {
   "cell_type": "code",
   "execution_count": 12,
   "id": "3ad6e460",
   "metadata": {},
   "outputs": [
    {
     "data": {
      "text/plain": [
       "4"
      ]
     },
     "execution_count": 12,
     "metadata": {},
     "output_type": "execute_result"
    }
   ],
   "source": [
    "std = σ\n",
    "std"
   ]
  },
  {
   "cell_type": "markdown",
   "id": "88245838",
   "metadata": {},
   "source": [
    "4. Рост взрослого населения города X имеет нормальное распределение.\n",
    "Причем, средний рост равен 174 см, а среднее квадратичное отклонение равно 8 см.\n",
    "Какова вероятность того, что случайным образом выбранный взрослый человек имеет рост:\n",
    "а). больше 182 см\n",
    "б). больше 190 см\n",
    "в). от 166 см до 190 см\n",
    "г). от 166 см до 182 см\n",
    "д). от 158 см до 190 см\n",
    "е). не выше 150 см или не ниже 190 см\n",
    "ё). не выше 150 см или не ниже 198 см\n",
    "ж). ниже 166 см."
   ]
  },
  {
   "cell_type": "code",
   "execution_count": 13,
   "id": "18f8bf63",
   "metadata": {},
   "outputs": [],
   "source": [
    "M = 174\n",
    "std = 8"
   ]
  },
  {
   "cell_type": "code",
   "execution_count": 28,
   "id": "8d4061ee",
   "metadata": {},
   "outputs": [],
   "source": [
    "import scipy.stats\n",
    "import numpy as np"
   ]
  },
  {
   "cell_type": "code",
   "execution_count": 23,
   "id": "9a02b73c",
   "metadata": {},
   "outputs": [
    {
     "data": {
      "text/plain": [
       "0.9772498680518208"
      ]
     },
     "execution_count": 23,
     "metadata": {},
     "output_type": "execute_result"
    }
   ],
   "source": [
    "scipy.stats.norm.cdf(2)"
   ]
  },
  {
   "cell_type": "markdown",
   "id": "cc686f45",
   "metadata": {},
   "source": [
    "a)"
   ]
  },
  {
   "cell_type": "code",
   "execution_count": 33,
   "id": "3c506f95",
   "metadata": {},
   "outputs": [
    {
     "data": {
      "text/plain": [
       "0.15865525393145707"
      ]
     },
     "execution_count": 33,
     "metadata": {},
     "output_type": "execute_result"
    }
   ],
   "source": [
    "P_1 = (scipy.stats.norm.cdf(np.inf) - 0.5) - (scipy.stats.norm.cdf((182 - 174) / 8) - 0.5)\n",
    "P_1"
   ]
  },
  {
   "cell_type": "markdown",
   "id": "2b196142",
   "metadata": {},
   "source": [
    "б)"
   ]
  },
  {
   "cell_type": "code",
   "execution_count": 34,
   "id": "6f83977f",
   "metadata": {},
   "outputs": [
    {
     "data": {
      "text/plain": [
       "0.02275013194817921"
      ]
     },
     "execution_count": 34,
     "metadata": {},
     "output_type": "execute_result"
    }
   ],
   "source": [
    "P_2 = (scipy.stats.norm.cdf(np.inf) - 0.5) - (scipy.stats.norm.cdf((190 - 174) / 8) - 0.5)\n",
    "P_2"
   ]
  },
  {
   "cell_type": "markdown",
   "id": "b95a13a3",
   "metadata": {},
   "source": [
    "в)"
   ]
  },
  {
   "cell_type": "code",
   "execution_count": 36,
   "id": "33f97ae2",
   "metadata": {},
   "outputs": [
    {
     "data": {
      "text/plain": [
       "0.8185946141203637"
      ]
     },
     "execution_count": 36,
     "metadata": {},
     "output_type": "execute_result"
    }
   ],
   "source": [
    "P_3 = (scipy.stats.norm.cdf((190 - 174) / 8) - 0.5) - (scipy.stats.norm.cdf((166 - 174) / 8) - 0.5)\n",
    "P_3"
   ]
  },
  {
   "cell_type": "markdown",
   "id": "3907e921",
   "metadata": {},
   "source": [
    "г)"
   ]
  },
  {
   "cell_type": "code",
   "execution_count": 37,
   "id": "2605b364",
   "metadata": {},
   "outputs": [
    {
     "data": {
      "text/plain": [
       "0.9544997361036416"
      ]
     },
     "execution_count": 37,
     "metadata": {},
     "output_type": "execute_result"
    }
   ],
   "source": [
    "P_4 = (scipy.stats.norm.cdf((190 - 174) / 8) - 0.5) - (scipy.stats.norm.cdf((158 - 174) / 8) - 0.5)\n",
    "P_4"
   ]
  },
  {
   "cell_type": "markdown",
   "id": "0abf1f4d",
   "metadata": {},
   "source": [
    "д)"
   ]
  },
  {
   "cell_type": "code",
   "execution_count": 38,
   "id": "f791a2bc",
   "metadata": {},
   "outputs": [
    {
     "data": {
      "text/plain": [
       "0.6826894921370859"
      ]
     },
     "execution_count": 38,
     "metadata": {},
     "output_type": "execute_result"
    }
   ],
   "source": [
    "P_5 = (scipy.stats.norm.cdf((182 - 174) / 8) - 0.5) - (scipy.stats.norm.cdf((166 - 174) / 8) - 0.5)\n",
    "P_5"
   ]
  },
  {
   "cell_type": "markdown",
   "id": "0689764a",
   "metadata": {},
   "source": [
    "е)"
   ]
  },
  {
   "cell_type": "code",
   "execution_count": 41,
   "id": "c6b04faa",
   "metadata": {},
   "outputs": [
    {
     "data": {
      "text/plain": [
       "0.024100029979809312"
      ]
     },
     "execution_count": 41,
     "metadata": {},
     "output_type": "execute_result"
    }
   ],
   "source": [
    "P_6 = 1 - ((scipy.stats.norm.cdf((190 - 174) / 8) - 0.5) - (scipy.stats.norm.cdf((150 - 174) / 8) - 0.5))\n",
    "P_6"
   ]
  },
  {
   "cell_type": "markdown",
   "id": "e0556da7",
   "metadata": {},
   "source": [
    "ё)"
   ]
  },
  {
   "cell_type": "code",
   "execution_count": 42,
   "id": "05c6a44f",
   "metadata": {},
   "outputs": [
    {
     "data": {
      "text/plain": [
       "0.002699796063260207"
      ]
     },
     "execution_count": 42,
     "metadata": {},
     "output_type": "execute_result"
    }
   ],
   "source": [
    "P_7 = 1 - ((scipy.stats.norm.cdf((198 - 174) / 8) - 0.5) - (scipy.stats.norm.cdf((150 - 174) / 8) - 0.5))\n",
    "P_7"
   ]
  },
  {
   "cell_type": "markdown",
   "id": "422122b5",
   "metadata": {},
   "source": [
    "ж)"
   ]
  },
  {
   "cell_type": "code",
   "execution_count": 44,
   "id": "005f9389",
   "metadata": {},
   "outputs": [
    {
     "data": {
      "text/plain": [
       "0.15865525393145707"
      ]
     },
     "execution_count": 44,
     "metadata": {},
     "output_type": "execute_result"
    }
   ],
   "source": [
    "P_8 = 1 - ((scipy.stats.norm.cdf(np.inf) - 0.5) - (scipy.stats.norm.cdf((166 - 174) / 8) - 0.5))\n",
    "P_8"
   ]
  },
  {
   "cell_type": "markdown",
   "id": "cfa7dbdf",
   "metadata": {},
   "source": [
    "5. На сколько сигм (средних квадратичных отклонений) отклоняется рост человека, равный 190 см, от математического ожидания роста в популяции, в которой M(X) = 178 см и D(X) = 25 кв.см?"
   ]
  },
  {
   "cell_type": "code",
   "execution_count": 47,
   "id": "64278acd",
   "metadata": {},
   "outputs": [],
   "source": [
    "x = 190\n",
    "M = 178\n",
    "D = 25"
   ]
  },
  {
   "cell_type": "code",
   "execution_count": 46,
   "id": "0b1901a6",
   "metadata": {},
   "outputs": [
    {
     "data": {
      "text/plain": [
       "5.0"
      ]
     },
     "execution_count": 46,
     "metadata": {},
     "output_type": "execute_result"
    }
   ],
   "source": [
    "std = D ** 0.5\n",
    "std"
   ]
  },
  {
   "cell_type": "code",
   "execution_count": 49,
   "id": "2c9db456",
   "metadata": {},
   "outputs": [
    {
     "data": {
      "text/plain": [
       "2.4"
      ]
     },
     "execution_count": 49,
     "metadata": {},
     "output_type": "execute_result"
    }
   ],
   "source": [
    "ans = (x - M) / std\n",
    "ans"
   ]
  }
 ],
 "metadata": {
  "kernelspec": {
   "display_name": "Python 3",
   "language": "python",
   "name": "python3"
  },
  "language_info": {
   "codemirror_mode": {
    "name": "ipython",
    "version": 3
   },
   "file_extension": ".py",
   "mimetype": "text/x-python",
   "name": "python",
   "nbconvert_exporter": "python",
   "pygments_lexer": "ipython3",
   "version": "3.8.8"
  }
 },
 "nbformat": 4,
 "nbformat_minor": 5
}
