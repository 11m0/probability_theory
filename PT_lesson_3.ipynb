{
 "cells": [
  {
   "cell_type": "markdown",
   "id": "2c28045c",
   "metadata": {},
   "source": [
    "Задача 1\n",
    "\n",
    "Даны значения зарплат из выборки выпускников: \n",
    "```\n",
    "100, 80, 75, 77, 89, 33, 45, 25, 65, 17, 30, 230, 24, 57, 55, 70, 75, 65, 84, 90, 150\n",
    "```\n",
    "Используя только встроенные питоновские функции и структуры данных (т.е. без библиотек `numpy`, `pandas` и др.), посчитайте (несмещённое) среднее квадратичное отклонение для данной выборки."
   ]
  },
  {
   "cell_type": "code",
   "execution_count": 1,
   "id": "4aa1f9bd",
   "metadata": {},
   "outputs": [],
   "source": [
    "my_list = [100, 80, 75, 77, 89, 33, 45, 25, 65, 17, 30, 230, 24, 57, 55, 70, 75, 65, 84, 90, 150]"
   ]
  },
  {
   "cell_type": "code",
   "execution_count": 2,
   "id": "1b561a72",
   "metadata": {},
   "outputs": [
    {
     "data": {
      "text/plain": [
       "47.34795213553139"
      ]
     },
     "execution_count": 2,
     "metadata": {},
     "output_type": "execute_result"
    }
   ],
   "source": [
    "std = (sum([(el - sum(my_list) / len(my_list))**2 for el in my_list]) / (len(my_list) - 1))**0.5\n",
    "std"
   ]
  },
  {
   "cell_type": "markdown",
   "id": "34582a5d",
   "metadata": {},
   "source": [
    "Задача 2\n",
    "\n",
    "Найдите число выбросов в выборке из задачи 1. Для определения выбросов используйте методику как при построении \"усов\" в `boxplot`, однако, как и в задаче 1, пользоваться можно только встроенными функциями и структурами данных."
   ]
  },
  {
   "cell_type": "code",
   "execution_count": 3,
   "id": "454b1f22",
   "metadata": {},
   "outputs": [
    {
     "data": {
      "text/plain": [
       "1"
      ]
     },
     "execution_count": 3,
     "metadata": {},
     "output_type": "execute_result"
    }
   ],
   "source": [
    "len(my_list) % 4"
   ]
  },
  {
   "cell_type": "code",
   "execution_count": 4,
   "id": "63652c7c",
   "metadata": {},
   "outputs": [
    {
     "data": {
      "text/plain": [
       "45"
      ]
     },
     "execution_count": 4,
     "metadata": {},
     "output_type": "execute_result"
    }
   ],
   "source": [
    "q1 = sorted(my_list)[len(my_list) // 4]\n",
    "q1"
   ]
  },
  {
   "cell_type": "code",
   "execution_count": 5,
   "id": "87efed0f",
   "metadata": {},
   "outputs": [
    {
     "data": {
      "text/plain": [
       "84"
      ]
     },
     "execution_count": 5,
     "metadata": {},
     "output_type": "execute_result"
    }
   ],
   "source": [
    "q3 = sorted(my_list)[len(my_list) * 3 // 4]\n",
    "q3"
   ]
  },
  {
   "cell_type": "code",
   "execution_count": 6,
   "id": "29fa391b",
   "metadata": {},
   "outputs": [
    {
     "data": {
      "text/plain": [
       "(-13.5, 142.5)"
      ]
     },
     "execution_count": 6,
     "metadata": {},
     "output_type": "execute_result"
    }
   ],
   "source": [
    "iqr = q3 - q1\n",
    "\n",
    "boxplot_range = (q1 - 1.5 * iqr, q3 + 1.5 * iqr)\n",
    "boxplot_range"
   ]
  },
  {
   "cell_type": "code",
   "execution_count": 7,
   "id": "2960fc87",
   "metadata": {},
   "outputs": [
    {
     "data": {
      "text/plain": [
       "[230, 150]"
      ]
     },
     "execution_count": 7,
     "metadata": {},
     "output_type": "execute_result"
    }
   ],
   "source": [
    "outliers = [el for el in my_list if (el < -13.5 or el > 142.5)]\n",
    "outliers"
   ]
  },
  {
   "cell_type": "markdown",
   "id": "58c8785b",
   "metadata": {},
   "source": [
    "Задача 3\n",
    "\n",
    "В университет на факультет A поступило 100 человек, на факультет B - 90 человек и на факультет C - 45 человек. Вероятность того, что студент с факультета A сдаст первую сессию, равна 0.6. Для студента с факультета B эта вероятность равна 0.7, а для студента с факультета C - 0.8. Случайным образом выбирается студент, сдавший первую сессию. Какое событие наиболее вероятно:\n",
    "1. студент учится на факультете A,\n",
    "2. студент учится на факультете B,\n",
    "3. студент учится на факультете C?"
   ]
  },
  {
   "cell_type": "code",
   "execution_count": 8,
   "id": "99fe0fab",
   "metadata": {},
   "outputs": [
    {
     "data": {
      "text/plain": [
       "(0.425531914893617, 0.3829787234042553, 0.19148936170212766)"
      ]
     },
     "execution_count": 8,
     "metadata": {},
     "output_type": "execute_result"
    }
   ],
   "source": [
    "a = 100\n",
    "b = 90\n",
    "c = 45\n",
    "\n",
    "p_a = a / (a + b + c)\n",
    "p_b = b / (a + b + c)\n",
    "p_c = c / (a + b + c)\n",
    "\n",
    "p_a, p_b, p_c"
   ]
  },
  {
   "cell_type": "code",
   "execution_count": 9,
   "id": "497811eb",
   "metadata": {},
   "outputs": [],
   "source": [
    "p_a_1 = 0.5\n",
    "p_b_1 = 0.6\n",
    "p_c_1 = 0.7"
   ]
  },
  {
   "cell_type": "code",
   "execution_count": 10,
   "id": "3194c3b6",
   "metadata": {},
   "outputs": [
    {
     "data": {
      "text/plain": [
       "0.5765957446808511"
      ]
     },
     "execution_count": 10,
     "metadata": {},
     "output_type": "execute_result"
    }
   ],
   "source": [
    "p_full = p_a_1 * p_a + p_b_1 * p_b + p_c_1 * p_c\n",
    "p_full"
   ]
  },
  {
   "cell_type": "code",
   "execution_count": 11,
   "id": "537e5fa1",
   "metadata": {},
   "outputs": [
    {
     "data": {
      "text/plain": [
       "[0.36900369003690037, 0.3985239852398524, 0.23247232472324722]"
      ]
     },
     "execution_count": 11,
     "metadata": {},
     "output_type": "execute_result"
    }
   ],
   "source": [
    "ans = [p_a_1 * p_a / p_full,\n",
    "       p_b_1 * p_b / p_full,\n",
    "       p_c_1 * p_c / p_full]\n",
    "ans"
   ]
  },
  {
   "cell_type": "markdown",
   "id": "1343ec60",
   "metadata": {},
   "source": [
    "Студент учится на факультете B"
   ]
  }
 ],
 "metadata": {
  "kernelspec": {
   "display_name": "Python 3",
   "language": "python",
   "name": "python3"
  },
  "language_info": {
   "codemirror_mode": {
    "name": "ipython",
    "version": 3
   },
   "file_extension": ".py",
   "mimetype": "text/x-python",
   "name": "python",
   "nbconvert_exporter": "python",
   "pygments_lexer": "ipython3",
   "version": "3.8.8"
  }
 },
 "nbformat": 4,
 "nbformat_minor": 5
}
