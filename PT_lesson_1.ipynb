{
 "cells": [
  {
   "cell_type": "code",
   "execution_count": 1,
   "id": "85d04e24",
   "metadata": {},
   "outputs": [],
   "source": [
    "import numpy as np"
   ]
  },
  {
   "cell_type": "code",
   "execution_count": 2,
   "id": "10d2c8d3",
   "metadata": {},
   "outputs": [],
   "source": [
    "def combinations(n: int, k: int) -> int:\n",
    "    \"\"\"Число сочетаний.\n",
    "    \"\"\"\n",
    "    \n",
    "    return np.math.factorial(n) // (np.math.factorial(k) * np.math.factorial(n - k))"
   ]
  },
  {
   "cell_type": "markdown",
   "id": "e16ed34c",
   "metadata": {},
   "source": [
    "Задача 1\n",
    "\n",
    "Имеется колода в 52 карты. Найти число возможностей вытянуть из неё 4 карты так, чтобы среди них был хотя бы один туз."
   ]
  },
  {
   "cell_type": "code",
   "execution_count": 4,
   "id": "d0f3a4cd",
   "metadata": {},
   "outputs": [],
   "source": [
    "ans = 0\n",
    "for i in range(1, 5):\n",
    "    ans = ans + combinations(4, i) * combinations(48, 4 - i)"
   ]
  },
  {
   "cell_type": "code",
   "execution_count": 5,
   "id": "475534cf",
   "metadata": {},
   "outputs": [
    {
     "data": {
      "text/plain": [
       "76145"
      ]
     },
     "execution_count": 5,
     "metadata": {},
     "output_type": "execute_result"
    }
   ],
   "source": [
    "ans"
   ]
  },
  {
   "cell_type": "markdown",
   "id": "69515109",
   "metadata": {},
   "source": [
    "Задачи 2 и 3\n",
    "\n",
    "Из 60 вопросов, входящих в экзаменационные билеты, студент знает 50. Случайным образом студент вытягивает 3 вопроса. Какова вероятность, что все выбранные вопросы знакомы студенту? Какова вероятность что два из трёх вопросов знакомы студенту?"
   ]
  },
  {
   "cell_type": "code",
   "execution_count": 8,
   "id": "d00f1051",
   "metadata": {},
   "outputs": [],
   "source": [
    "answ_1 = combinations(50, 3) / combinations(60, 3)"
   ]
  },
  {
   "cell_type": "code",
   "execution_count": 9,
   "id": "aedef289",
   "metadata": {},
   "outputs": [
    {
     "data": {
      "text/plain": [
       "0.5727644652250146"
      ]
     },
     "execution_count": 9,
     "metadata": {},
     "output_type": "execute_result"
    }
   ],
   "source": [
    "answ_1"
   ]
  },
  {
   "cell_type": "code",
   "execution_count": 16,
   "id": "92b6c09a",
   "metadata": {},
   "outputs": [],
   "source": [
    "answ_2 = combinations(50, 2) * combinations(10, 1) / combinations(60, 3)"
   ]
  },
  {
   "cell_type": "code",
   "execution_count": 17,
   "id": "b21ed37f",
   "metadata": {},
   "outputs": [
    {
     "data": {
      "text/plain": [
       "0.35797779076563413"
      ]
     },
     "execution_count": 17,
     "metadata": {},
     "output_type": "execute_result"
    }
   ],
   "source": [
    "answ_2"
   ]
  },
  {
   "cell_type": "markdown",
   "id": "6e34477f",
   "metadata": {},
   "source": [
    "Задача 4\n",
    "\n",
    "Допустим, имеется некоторая очень редкая болезнь (поражает 0.1% населения). Вы приходите к врачу, вам делают тест на эту болезнь, и тест оказывается положительным. Врач говорит вам, что этот тест верно выявляет 99% больных этой болезнью и всего лишь в 1% случаев даёт ложный положительный ответ.\n",
    "\n",
    "Вопрос: какова вероятность, что вы действительно больны ей?\n",
    "\n",
    "Подсказка: используйте формулу Байеса с раскрытием знаменателя с помощью формулы полной вероятности."
   ]
  },
  {
   "cell_type": "code",
   "execution_count": 18,
   "id": "a76653fc",
   "metadata": {},
   "outputs": [],
   "source": [
    "population = 7753000000"
   ]
  },
  {
   "cell_type": "code",
   "execution_count": 21,
   "id": "7c8daf2b",
   "metadata": {},
   "outputs": [],
   "source": [
    "P_a = (population * 0.1 / 100) / population"
   ]
  },
  {
   "cell_type": "code",
   "execution_count": 22,
   "id": "10376b38",
   "metadata": {},
   "outputs": [
    {
     "data": {
      "text/plain": [
       "0.001"
      ]
     },
     "execution_count": 22,
     "metadata": {},
     "output_type": "execute_result"
    }
   ],
   "source": [
    "P_a"
   ]
  },
  {
   "cell_type": "code",
   "execution_count": 23,
   "id": "a11db03d",
   "metadata": {},
   "outputs": [],
   "source": [
    "P_b = 0.99"
   ]
  },
  {
   "cell_type": "code",
   "execution_count": 25,
   "id": "36614766",
   "metadata": {},
   "outputs": [
    {
     "data": {
      "text/plain": [
       "0.99"
      ]
     },
     "execution_count": 25,
     "metadata": {},
     "output_type": "execute_result"
    }
   ],
   "source": [
    "P_b_a = P_b * P_a / P_a\n",
    "P_b_a"
   ]
  },
  {
   "cell_type": "code",
   "execution_count": 26,
   "id": "dc1e0e72",
   "metadata": {},
   "outputs": [
    {
     "data": {
      "text/plain": [
       "0.010980000000000009"
      ]
     },
     "execution_count": 26,
     "metadata": {},
     "output_type": "execute_result"
    }
   ],
   "source": [
    "P_b_full = P_b * P_a + (1 - P_b)*(1 - P_a)\n",
    "P_b_full"
   ]
  },
  {
   "cell_type": "code",
   "execution_count": 27,
   "id": "47208626",
   "metadata": {},
   "outputs": [
    {
     "data": {
      "text/plain": [
       "0.09016393442622944"
      ]
     },
     "execution_count": 27,
     "metadata": {},
     "output_type": "execute_result"
    }
   ],
   "source": [
    "answ = P_a * P_b / P_b_full\n",
    "answ"
   ]
  }
 ],
 "metadata": {
  "kernelspec": {
   "display_name": "Python 3",
   "language": "python",
   "name": "python3"
  },
  "language_info": {
   "codemirror_mode": {
    "name": "ipython",
    "version": 3
   },
   "file_extension": ".py",
   "mimetype": "text/x-python",
   "name": "python",
   "nbconvert_exporter": "python",
   "pygments_lexer": "ipython3",
   "version": "3.8.8"
  }
 },
 "nbformat": 4,
 "nbformat_minor": 5
}
